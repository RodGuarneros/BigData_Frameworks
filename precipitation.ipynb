{
  "nbformat": 4,
  "nbformat_minor": 0,
  "metadata": {
    "anaconda-cloud": {},
    "kernel_info": {
      "name": "python3"
    },
    "kernelspec": {
      "display_name": "Python [default]",
      "language": "python",
      "name": "python3"
    },
    "language_info": {
      "codemirror_mode": {
        "name": "ipython",
        "version": 3
      },
      "file_extension": ".py",
      "mimetype": "text/x-python",
      "name": "python",
      "nbconvert_exporter": "python",
      "pygments_lexer": "ipython3",
      "version": "3.6.5"
    },
    "nteract": {
      "version": "0.11.2"
    },
    "varInspector": {
      "cols": {
        "lenName": 16,
        "lenType": 16,
        "lenVar": 40
      },
      "kernels_config": {
        "python": {
          "delete_cmd_postfix": "",
          "delete_cmd_prefix": "del ",
          "library": "var_list.py",
          "varRefreshCmd": "print(var_dic_list())"
        },
        "r": {
          "delete_cmd_postfix": ") ",
          "delete_cmd_prefix": "rm(",
          "library": "var_list.r",
          "varRefreshCmd": "cat(var_dic_list()) "
        }
      },
      "types_to_exclude": [
        "module",
        "function",
        "builtin_function_or_method",
        "instance",
        "_Feature"
      ],
      "window_display": false
    },
    "colab": {
      "name": "precipitation.ipynb",
      "provenance": [],
      "include_colab_link": true
    }
  },
  "cells": [
    {
      "cell_type": "markdown",
      "metadata": {
        "id": "view-in-github",
        "colab_type": "text"
      },
      "source": [
        "<a href=\"https://colab.research.google.com/github/RodGuarneros/BigData_Frameworks/blob/main/precipitation.ipynb\" target=\"_parent\"><img src=\"https://colab.research.google.com/assets/colab-badge.svg\" alt=\"Open In Colab\"/></a>"
      ]
    },
    {
      "cell_type": "code",
      "metadata": {
        "id": "7kufI1HuEzk5",
        "colab": {
          "base_uri": "https://localhost:8080/"
        },
        "outputId": "38941052-004d-45f0-bc5c-5434dfc97b53"
      },
      "source": [
        "import os\n",
        "# Find the version of spark 3.0 form http://www-us.apache.org/dist/spark/ and enter as the spark version\n",
        "# For example:\n",
        "#spark_version 3.0.2\n",
        "spark_version = \"spark-3.1.1\"\n",
        "os.environ[\"SPARK_VERSION\"] = spark_version\n",
        "\n",
        "# Install Java, Spark, and Findspark\n",
        "!apt-get update\n",
        "!apt-get install openjdk-11-jdk-headless -qq > /dev/null\n",
        "!wget -q http://www-us.apache.org/dist/spark/$SPARK_VERSION/$SPARK_VERSION-bin-hadoop2.7.tgz\n",
        "!tar xf $SPARK_VERSION-bin-hadoop2.7.tgz\n",
        "!pip install -q findspark\n",
        "\n",
        "# Set Environment Variables\n",
        "os.environ[\"JAVA_HOME\"] = \"/usr/lib/jvm/java-11-openjdk-amd64\"\n",
        "os.environ[\"SPARK_HOME\"] = f\"/content/{spark_version}-bin-hadoop2.7\"\n",
        "\n",
        "# Start a SparkSession\n",
        "import findspark\n",
        "findspark.init()"
      ],
      "execution_count": 1,
      "outputs": [
        {
          "output_type": "stream",
          "text": [
            "\r0% [Working]\r            \rGet:1 https://cloud.r-project.org/bin/linux/ubuntu bionic-cran40/ InRelease [3,626 B]\n",
            "\r0% [Connecting to archive.ubuntu.com (91.189.88.142)] [Waiting for headers] [1 \r0% [Connecting to archive.ubuntu.com (91.189.88.142)] [Waiting for headers] [Wa\r0% [1 InRelease gpgv 3,626 B] [Connecting to archive.ubuntu.com (91.189.88.142)\r                                                                               \rIgn:2 https://developer.download.nvidia.com/compute/cuda/repos/ubuntu1804/x86_64  InRelease\n",
            "\r0% [1 InRelease gpgv 3,626 B] [Connecting to archive.ubuntu.com (91.189.88.142)\r                                                                               \rGet:3 http://security.ubuntu.com/ubuntu bionic-security InRelease [88.7 kB]\n",
            "\r0% [1 InRelease gpgv 3,626 B] [Waiting for headers] [3 InRelease 2,586 B/88.7 k\r                                                                               \rGet:4 http://ppa.launchpad.net/c2d4u.team/c2d4u4.0+/ubuntu bionic InRelease [15.9 kB]\n",
            "\r0% [1 InRelease gpgv 3,626 B] [Waiting for headers] [3 InRelease 14.2 kB/88.7 k\r                                                                               \rIgn:5 https://developer.download.nvidia.com/compute/machine-learning/repos/ubuntu1804/x86_64  InRelease\n",
            "Get:6 https://developer.download.nvidia.com/compute/cuda/repos/ubuntu1804/x86_64  Release [697 B]\n",
            "Hit:7 https://developer.download.nvidia.com/compute/machine-learning/repos/ubuntu1804/x86_64  Release\n",
            "Get:8 https://developer.download.nvidia.com/compute/cuda/repos/ubuntu1804/x86_64  Release.gpg [836 B]\n",
            "Hit:9 http://archive.ubuntu.com/ubuntu bionic InRelease\n",
            "Get:10 http://archive.ubuntu.com/ubuntu bionic-updates InRelease [88.7 kB]\n",
            "Hit:11 http://ppa.launchpad.net/cran/libgit2/ubuntu bionic InRelease\n",
            "Get:12 https://cloud.r-project.org/bin/linux/ubuntu bionic-cran40/ Packages [53.9 kB]\n",
            "Get:13 http://ppa.launchpad.net/deadsnakes/ppa/ubuntu bionic InRelease [15.9 kB]\n",
            "Get:15 http://archive.ubuntu.com/ubuntu bionic-backports InRelease [74.6 kB]\n",
            "Get:16 http://ppa.launchpad.net/graphics-drivers/ppa/ubuntu bionic InRelease [15.9 kB]\n",
            "Ign:17 https://developer.download.nvidia.com/compute/cuda/repos/ubuntu1804/x86_64  Packages\n",
            "Get:17 https://developer.download.nvidia.com/compute/cuda/repos/ubuntu1804/x86_64  Packages [742 kB]\n",
            "Get:18 http://ppa.launchpad.net/c2d4u.team/c2d4u4.0+/ubuntu bionic/main Sources [1,759 kB]\n",
            "Get:19 http://security.ubuntu.com/ubuntu bionic-security/main amd64 Packages [2,119 kB]\n",
            "Get:20 http://archive.ubuntu.com/ubuntu bionic-updates/main amd64 Packages [2,550 kB]\n",
            "Get:21 http://security.ubuntu.com/ubuntu bionic-security/restricted amd64 Packages [399 kB]\n",
            "Get:22 http://security.ubuntu.com/ubuntu bionic-security/universe amd64 Packages [1,410 kB]\n",
            "Get:23 http://security.ubuntu.com/ubuntu bionic-security/multiverse amd64 Packages [24.7 kB]\n",
            "Get:24 http://ppa.launchpad.net/c2d4u.team/c2d4u4.0+/ubuntu bionic/main amd64 Packages [900 kB]\n",
            "Get:25 http://archive.ubuntu.com/ubuntu bionic-updates/restricted amd64 Packages [429 kB]\n",
            "Get:26 http://archive.ubuntu.com/ubuntu bionic-updates/universe amd64 Packages [2,181 kB]\n",
            "Get:27 http://archive.ubuntu.com/ubuntu bionic-updates/multiverse amd64 Packages [31.6 kB]\n",
            "Get:28 http://ppa.launchpad.net/deadsnakes/ppa/ubuntu bionic/main amd64 Packages [40.3 kB]\n",
            "Get:29 http://ppa.launchpad.net/graphics-drivers/ppa/ubuntu bionic/main amd64 Packages [53.2 kB]\n",
            "Fetched 13.0 MB in 4s (3,493 kB/s)\n",
            "Reading package lists... Done\n"
          ],
          "name": "stdout"
        }
      ]
    },
    {
      "cell_type": "code",
      "metadata": {
        "id": "ADYQdkdUSAnn"
      },
      "source": [
        "# Start Spark session\n",
        "from pyspark.sql import SparkSession\n",
        "spark = SparkSession.builder.appName(\"sparkDates\").getOrCreate()"
      ],
      "execution_count": 2,
      "outputs": []
    },
    {
      "cell_type": "code",
      "metadata": {
        "id": "6CdXs43NC-oE",
        "colab": {
          "base_uri": "https://localhost:8080/"
        },
        "outputId": "0516a9e5-5901-46d2-fa06-144a06c14423"
      },
      "source": [
        "# Load in data\n",
        "from pyspark import SparkFiles\n",
        "url =\"https://s3.amazonaws.com/dataviz-curriculum/day_1/rainfall.csv\"\n",
        "spark.sparkContext.addFile(url)\n",
        "df = spark.read.csv(SparkFiles.get(\"rainfall.csv\"), sep=\",\", header=True, inferSchema=True, timestampFormat=\"yyyy/MM/dd HH:mm:ss\")\n",
        "df.show()"
      ],
      "execution_count": 3,
      "outputs": [
        {
          "output_type": "stream",
          "text": [
            "+-----------+----------+----+----+\n",
            "|    station|      date|prcp|tobs|\n",
            "+-----------+----------+----+----+\n",
            "|USC00519397|2010-01-01|0.08|  65|\n",
            "|USC00519397|2010-01-02| 0.0|  63|\n",
            "|USC00519397|2010-01-03| 0.0|  74|\n",
            "|USC00519397|2010-01-04| 0.0|  76|\n",
            "|USC00519397|2010-01-07|0.06|  70|\n",
            "|USC00519397|2010-01-08| 0.0|  64|\n",
            "|USC00519397|2010-01-09| 0.0|  68|\n",
            "|USC00519397|2010-01-10| 0.0|  73|\n",
            "|USC00519397|2010-01-11|0.01|  64|\n",
            "|USC00519397|2010-01-12| 0.0|  61|\n",
            "|USC00519397|2010-01-14| 0.0|  66|\n",
            "|USC00519397|2010-01-15| 0.0|  65|\n",
            "|USC00519397|2010-01-16| 0.0|  68|\n",
            "|USC00519397|2010-01-17| 0.0|  64|\n",
            "|USC00519397|2010-01-18| 0.0|  72|\n",
            "|USC00519397|2010-01-19| 0.0|  66|\n",
            "|USC00519397|2010-01-20| 0.0|  66|\n",
            "|USC00519397|2010-01-21| 0.0|  69|\n",
            "|USC00519397|2010-01-22| 0.0|  67|\n",
            "|USC00519397|2010-01-23| 0.0|  67|\n",
            "+-----------+----------+----+----+\n",
            "only showing top 20 rows\n",
            "\n"
          ],
          "name": "stdout"
        }
      ]
    },
    {
      "cell_type": "code",
      "metadata": {
        "id": "wGs8eT4MC-oQ",
        "colab": {
          "base_uri": "https://localhost:8080/"
        },
        "outputId": "c8ca8583-6c2b-4b5c-cbd5-20f3f23f889b"
      },
      "source": [
        "# Show schema to confirm date type\n",
        "df.printSchema()"
      ],
      "execution_count": 4,
      "outputs": [
        {
          "output_type": "stream",
          "text": [
            "root\n",
            " |-- station: string (nullable = true)\n",
            " |-- date: string (nullable = true)\n",
            " |-- prcp: double (nullable = true)\n",
            " |-- tobs: integer (nullable = true)\n",
            "\n"
          ],
          "name": "stdout"
        }
      ]
    },
    {
      "cell_type": "code",
      "metadata": {
        "id": "qlpo4iHsC-oV",
        "colab": {
          "base_uri": "https://localhost:8080/"
        },
        "outputId": "d7ef79ca-790e-4b2c-e925-464b07762ac0"
      },
      "source": [
        "# Import date time functions\n",
        "from pyspark.sql.functions import year\n",
        "\n",
        "# Show the year for the date column\n",
        "df.select(year(df[\"date\"])).show()"
      ],
      "execution_count": 5,
      "outputs": [
        {
          "output_type": "stream",
          "text": [
            "+----------+\n",
            "|year(date)|\n",
            "+----------+\n",
            "|      2010|\n",
            "|      2010|\n",
            "|      2010|\n",
            "|      2010|\n",
            "|      2010|\n",
            "|      2010|\n",
            "|      2010|\n",
            "|      2010|\n",
            "|      2010|\n",
            "|      2010|\n",
            "|      2010|\n",
            "|      2010|\n",
            "|      2010|\n",
            "|      2010|\n",
            "|      2010|\n",
            "|      2010|\n",
            "|      2010|\n",
            "|      2010|\n",
            "|      2010|\n",
            "|      2010|\n",
            "+----------+\n",
            "only showing top 20 rows\n",
            "\n"
          ],
          "name": "stdout"
        }
      ]
    },
    {
      "cell_type": "code",
      "metadata": {
        "id": "es-JQnbkC-od",
        "colab": {
          "base_uri": "https://localhost:8080/"
        },
        "outputId": "ca1bcc16-38d4-434d-fec3-83c133660d2e"
      },
      "source": [
        "# Save the year as a new column\n",
        "df = df.withColumn(\"year\", year(df['date']))\n",
        "df.show()"
      ],
      "execution_count": 6,
      "outputs": [
        {
          "output_type": "stream",
          "text": [
            "+-----------+----------+----+----+----+\n",
            "|    station|      date|prcp|tobs|year|\n",
            "+-----------+----------+----+----+----+\n",
            "|USC00519397|2010-01-01|0.08|  65|2010|\n",
            "|USC00519397|2010-01-02| 0.0|  63|2010|\n",
            "|USC00519397|2010-01-03| 0.0|  74|2010|\n",
            "|USC00519397|2010-01-04| 0.0|  76|2010|\n",
            "|USC00519397|2010-01-07|0.06|  70|2010|\n",
            "|USC00519397|2010-01-08| 0.0|  64|2010|\n",
            "|USC00519397|2010-01-09| 0.0|  68|2010|\n",
            "|USC00519397|2010-01-10| 0.0|  73|2010|\n",
            "|USC00519397|2010-01-11|0.01|  64|2010|\n",
            "|USC00519397|2010-01-12| 0.0|  61|2010|\n",
            "|USC00519397|2010-01-14| 0.0|  66|2010|\n",
            "|USC00519397|2010-01-15| 0.0|  65|2010|\n",
            "|USC00519397|2010-01-16| 0.0|  68|2010|\n",
            "|USC00519397|2010-01-17| 0.0|  64|2010|\n",
            "|USC00519397|2010-01-18| 0.0|  72|2010|\n",
            "|USC00519397|2010-01-19| 0.0|  66|2010|\n",
            "|USC00519397|2010-01-20| 0.0|  66|2010|\n",
            "|USC00519397|2010-01-21| 0.0|  69|2010|\n",
            "|USC00519397|2010-01-22| 0.0|  67|2010|\n",
            "|USC00519397|2010-01-23| 0.0|  67|2010|\n",
            "+-----------+----------+----+----+----+\n",
            "only showing top 20 rows\n",
            "\n"
          ],
          "name": "stdout"
        }
      ]
    },
    {
      "cell_type": "code",
      "metadata": {
        "id": "vUaT-8mCV6w0",
        "colab": {
          "base_uri": "https://localhost:8080/"
        },
        "outputId": "11d5f87d-5afc-4064-ff5a-f9bab4924ea5"
      },
      "source": [
        "# Find the average precipitation per year\n",
        "averages = df.groupBy(\"year\").avg()\n",
        "averages.orderBy(\"year\").select(\"year\", \"avg(prcp)\").show()"
      ],
      "execution_count": 7,
      "outputs": [
        {
          "output_type": "stream",
          "text": [
            "+----+-------------------+\n",
            "|year|          avg(prcp)|\n",
            "+----+-------------------+\n",
            "|2010|0.13852293920179035|\n",
            "|2011| 0.1637348927875241|\n",
            "|2012| 0.1163805668016194|\n",
            "|2013|0.15554567502020986|\n",
            "|2014|0.17855953372189803|\n",
            "|2015|0.19919999999999985|\n",
            "|2016|0.17984533591106822|\n",
            "|2017|0.16592738752959774|\n",
            "+----+-------------------+\n",
            "\n"
          ],
          "name": "stdout"
        }
      ]
    },
    {
      "cell_type": "code",
      "metadata": {
        "id": "cS6QUGeSC-om",
        "colab": {
          "base_uri": "https://localhost:8080/"
        },
        "outputId": "d3121bb9-83f7-4a05-dd0b-f38d47387faf"
      },
      "source": [
        "from pyspark.sql.functions import month\n",
        "df.select(month(df['Date'])).show()"
      ],
      "execution_count": 9,
      "outputs": [
        {
          "output_type": "stream",
          "text": [
            "+-----------+\n",
            "|month(Date)|\n",
            "+-----------+\n",
            "|          1|\n",
            "|          1|\n",
            "|          1|\n",
            "|          1|\n",
            "|          1|\n",
            "|          1|\n",
            "|          1|\n",
            "|          1|\n",
            "|          1|\n",
            "|          1|\n",
            "|          1|\n",
            "|          1|\n",
            "|          1|\n",
            "|          1|\n",
            "|          1|\n",
            "|          1|\n",
            "|          1|\n",
            "|          1|\n",
            "|          1|\n",
            "|          1|\n",
            "+-----------+\n",
            "only showing top 20 rows\n",
            "\n"
          ],
          "name": "stdout"
        }
      ]
    },
    {
      "cell_type": "code",
      "metadata": {
        "id": "CojLgFrpC-oq",
        "colab": {
          "base_uri": "https://localhost:8080/"
        },
        "outputId": "2f6bb799-d254-488d-cc0a-e9026390eb91"
      },
      "source": [
        "df = df.withColumn(\"month\", month(df['date']))\n",
        "df.head()"
      ],
      "execution_count": 10,
      "outputs": [
        {
          "output_type": "execute_result",
          "data": {
            "text/plain": [
              "Row(station='USC00519397', date='2010-01-01', prcp=0.08, tobs=65, year=2010, month=1)"
            ]
          },
          "metadata": {
            "tags": []
          },
          "execution_count": 10
        }
      ]
    },
    {
      "cell_type": "code",
      "metadata": {
        "id": "WFLxAjanC-ou",
        "colab": {
          "base_uri": "https://localhost:8080/"
        },
        "outputId": "3bd65ffc-2216-412d-e0a2-ac5c04c72441"
      },
      "source": [
        "maxes = df.groupBy(\"month\").max()\n",
        "maxes.orderBy(\"month\").select(\"month\", \"max(prcp)\").show()"
      ],
      "execution_count": 11,
      "outputs": [
        {
          "output_type": "stream",
          "text": [
            "+-----+---------+\n",
            "|month|max(prcp)|\n",
            "+-----+---------+\n",
            "|    1|     8.81|\n",
            "|    2|     5.04|\n",
            "|    3|     6.38|\n",
            "|    4|     6.25|\n",
            "|    5|     4.07|\n",
            "|    6|     4.43|\n",
            "|    7|    11.53|\n",
            "|    8|     4.81|\n",
            "|    9|     6.83|\n",
            "|   10|     4.47|\n",
            "|   11|     8.06|\n",
            "|   12|     6.42|\n",
            "+-----+---------+\n",
            "\n"
          ],
          "name": "stdout"
        }
      ]
    },
    {
      "cell_type": "code",
      "metadata": {
        "id": "C6KRsF3GC-oz",
        "colab": {
          "base_uri": "https://localhost:8080/",
          "height": 204
        },
        "outputId": "f42e446d-7d82-44df-de58-eef248926793"
      },
      "source": [
        "# Import the summarized data to a pandas dataframe for plotting\n",
        "# Note: If your summarized data is still too big for your local memory then your notebook may crash\n",
        "\n",
        "pandas_df = maxes.orderBy(\"month\").select(\"month\", \"max(prcp)\").toPandas()\n",
        "pandas_df.head()"
      ],
      "execution_count": 14,
      "outputs": [
        {
          "output_type": "execute_result",
          "data": {
            "text/html": [
              "<div>\n",
              "<style scoped>\n",
              "    .dataframe tbody tr th:only-of-type {\n",
              "        vertical-align: middle;\n",
              "    }\n",
              "\n",
              "    .dataframe tbody tr th {\n",
              "        vertical-align: top;\n",
              "    }\n",
              "\n",
              "    .dataframe thead th {\n",
              "        text-align: right;\n",
              "    }\n",
              "</style>\n",
              "<table border=\"1\" class=\"dataframe\">\n",
              "  <thead>\n",
              "    <tr style=\"text-align: right;\">\n",
              "      <th></th>\n",
              "      <th>month</th>\n",
              "      <th>max(prcp)</th>\n",
              "    </tr>\n",
              "  </thead>\n",
              "  <tbody>\n",
              "    <tr>\n",
              "      <th>0</th>\n",
              "      <td>1</td>\n",
              "      <td>8.81</td>\n",
              "    </tr>\n",
              "    <tr>\n",
              "      <th>1</th>\n",
              "      <td>2</td>\n",
              "      <td>5.04</td>\n",
              "    </tr>\n",
              "    <tr>\n",
              "      <th>2</th>\n",
              "      <td>3</td>\n",
              "      <td>6.38</td>\n",
              "    </tr>\n",
              "    <tr>\n",
              "      <th>3</th>\n",
              "      <td>4</td>\n",
              "      <td>6.25</td>\n",
              "    </tr>\n",
              "    <tr>\n",
              "      <th>4</th>\n",
              "      <td>5</td>\n",
              "      <td>4.07</td>\n",
              "    </tr>\n",
              "  </tbody>\n",
              "</table>\n",
              "</div>"
            ],
            "text/plain": [
              "   month  max(prcp)\n",
              "0      1       8.81\n",
              "1      2       5.04\n",
              "2      3       6.38\n",
              "3      4       6.25\n",
              "4      5       4.07"
            ]
          },
          "metadata": {
            "tags": []
          },
          "execution_count": 14
        }
      ]
    },
    {
      "cell_type": "code",
      "metadata": {
        "id": "CrkpfmoAC-o2",
        "colab": {
          "base_uri": "https://localhost:8080/",
          "height": 301
        },
        "outputId": "82f7b6c2-c652-4d00-f717-ae48ca9b6b43"
      },
      "source": [
        "import matplotlib.pyplot as plt\n",
        "pandas_df.set_index(\"month\", inplace=True)\n",
        "pandas_df.plot.bar()"
      ],
      "execution_count": 15,
      "outputs": [
        {
          "output_type": "execute_result",
          "data": {
            "text/plain": [
              "<matplotlib.axes._subplots.AxesSubplot at 0x7fd30f2fba50>"
            ]
          },
          "metadata": {
            "tags": []
          },
          "execution_count": 15
        },
        {
          "output_type": "display_data",
          "data": {
            "image/png": "[encoded data removed]",
            "text/plain": [
              "<Figure size 432x288 with 1 Axes>"
            ]
          },
          "metadata": {
            "tags": [],
            "needs_background": "light"
          }
        }
      ]
    },
    {
      "cell_type": "code",
      "metadata": {
        "colab": {
          "base_uri": "https://localhost:8080/"
        },
        "id": "KRGcg4HyV7ji",
        "outputId": "296cf76f-0aef-4a0f-a392-f777205fc550"
      },
      "source": [
        "pandas_df.count()"
      ],
      "execution_count": 16,
      "outputs": [
        {
          "output_type": "execute_result",
          "data": {
            "text/plain": [
              "max(prcp)    12\n",
              "dtype: int64"
            ]
          },
          "metadata": {
            "tags": []
          },
          "execution_count": 16
        }
      ]
    },
    {
      "cell_type": "code",
      "metadata": {
        "id": "0afADD07C-o9",
        "colab": {
          "base_uri": "https://localhost:8080/"
        },
        "outputId": "d19bdc74-6c41-4f4d-a151-f7250b73f511"
      },
      "source": [
        "df.count()"
      ],
      "execution_count": 17,
      "outputs": [
        {
          "output_type": "execute_result",
          "data": {
            "text/plain": [
              "18103"
            ]
          },
          "metadata": {
            "tags": []
          },
          "execution_count": 17
        }
      ]
    }
  ]
}